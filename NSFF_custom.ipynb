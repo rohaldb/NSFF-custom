{
  "nbformat": 4,
  "nbformat_minor": 0,
  "metadata": {
    "accelerator": "GPU",
    "colab": {
      "name": "NSFF-custom.ipynb",
      "provenance": [],
      "collapsed_sections": [],
      "machine_shape": "hm"
    },
    "kernelspec": {
      "display_name": "Python 3",
      "name": "python3"
    },
    "language_info": {
      "name": "python"
    }
  },
  "cells": [
    {
      "cell_type": "markdown",
      "metadata": {
        "id": "eq0ozNagTDNW"
      },
      "source": [
        "### Setup"
      ]
    },
    {
      "cell_type": "code",
      "metadata": {
        "id": "uaguntM6fDC8"
      },
      "source": [
        "!git clone https://github.com/rohaldb/NSFF-custom\n",
        "!mv NSFF-custom Neural-Scene-Flow-Fields"
      ],
      "execution_count": null,
      "outputs": []
    },
    {
      "cell_type": "code",
      "metadata": {
        "id": "-hlaMSWhz8NO"
      },
      "source": [
        "%cd /content/Neural-Scene-Flow-Fields\n",
        "!pip install -r requirements.txt"
      ],
      "execution_count": null,
      "outputs": []
    },
    {
      "cell_type": "code",
      "metadata": {
        "id": "XlXsjZSIkdAC"
      },
      "source": [
        "#download data\n",
        "%cd /content/\n",
        "!gdown https://drive.google.com/uc?id=1wm7D68vDBctDwsTLfevvZM5wEiIp9cLR\n",
        "!unzip \"custom_nerf_data.zip\"; rm \"custom_nerf_data.zip\";\n",
        "#add nsff-sf estimates\n",
        "%cd /content/nerf_data/kid-running/dense\n",
        "!gdown https://drive.google.com/uc?id=1mp-ikirWScLSwsaCFRLoHZfSMqA9lR7v\n",
        "!unzip \"sf_nsff.zip\"; rm \"sf_nsff.zip\""
      ],
      "execution_count": null,
      "outputs": []
    },
    {
      "cell_type": "markdown",
      "metadata": {
        "id": "tKZorDXonLeY"
      },
      "source": [
        "### Training a new model\n",
        "Unfortunately there is no good way to download the images off tensorboard. So best way to do it is just to drag them to desktop and upload to google drive"
      ]
    },
    {
      "cell_type": "code",
      "metadata": {
        "id": "t4f2a8gkJfIZ"
      },
      "source": [
        "%load_ext tensorboard\n",
        "%tensorboard --logdir /content/Neural-Scene-Flow-Fields/nsff_exp/logs/summaries"
      ],
      "execution_count": null,
      "outputs": []
    },
    {
      "cell_type": "code",
      "metadata": {
        "id": "uKTt2I7vG2yV"
      },
      "source": [
        "txt = \"\"\"\n",
        "expname = kid-running_ndc_5f_sv_of_sm_unify3_testing-{}\n",
        "\n",
        "basedir = ./logs\n",
        "datadir = /content/nerf_data/kid-running/dense\n",
        "\n",
        "dataset_type = llff\n",
        "\n",
        "factor = 2\n",
        "llffhold = 10\n",
        "\n",
        "N_rand = 1024\n",
        "N_samples = 128\n",
        "N_importance = 0\n",
        "netwidth = 256\n",
        "\n",
        "use_viewdirs = True\n",
        "raw_noise_std = 1e0\n",
        "no_ndc = False\n",
        "lindisp = False\n",
        "no_batching = True\n",
        "spherify = False\n",
        "decay_depth_w = True\n",
        "decay_optical_flow_w = True\n",
        "use_motion_mask = True\n",
        "num_extra_sample = 512\n",
        "decay_iteration = 3\n",
        "\n",
        "w_depth = 0.04\n",
        "w_optical_flow = 0.02\n",
        "w_sm = 0.1\n",
        "w_sf_reg = 0.01\n",
        "w_cycle = 1.0\n",
        "w_prob_reg = 0.1\n",
        "\n",
        "start_frame = 8\n",
        "end_frame = 11\n",
        "\"\"\""
      ],
      "execution_count": 11,
      "outputs": []
    },
    {
      "cell_type": "code",
      "metadata": {
        "id": "pMT1eQe3nM9i"
      },
      "source": [
        "%cd /content/Neural-Scene-Flow-Fields/nsff_exp\n",
        "for j in [10]:\n",
        "  with open(\"/content/Neural-Scene-Flow-Fields/nsff_exp/configs/config_kid-running.txt\", \"w\") as text_file:\n",
        "    text_file.write(txt.format(j))\n",
        "  !python run_nerf.py --config configs/config_kid-running.txt --target_idx 1 --i_weights 2000 --i_img 2500 --i_vid 2500 --i_print 100 --w_sf {j} --chunk {1024*16} --netchunk {1024*16} "
      ],
      "execution_count": null,
      "outputs": []
    },
    {
      "cell_type": "code",
      "metadata": {
        "id": "JQQjXMFxxoeo"
      },
      "source": [
        "while True:\n",
        "  pass"
      ],
      "execution_count": null,
      "outputs": []
    },
    {
      "cell_type": "code",
      "metadata": {
        "id": "lJh7XlGYBWfW"
      },
      "source": [
        "#copy results to google drive\n",
        "%cp -R /content/Neural-Scene-Flow-Fields/nsff_exp/logs/* \"/content/drive/MyDrive/Thesis/sf reg/motion accounted for sf decay/\"\n",
        "%ls \"/content/drive/MyDrive/Thesis/sf reg/motion accounted for/\""
      ],
      "execution_count": null,
      "outputs": []
    },
    {
      "cell_type": "markdown",
      "metadata": {
        "id": "xBIBitCX971a"
      },
      "source": [
        "###Rendering from my pretrained model"
      ]
    },
    {
      "cell_type": "code",
      "metadata": {
        "id": "WjbhGvmtNcZW"
      },
      "source": [
        "!rm -rf /content/Neural-Scene-Flow-Fields/nsff_exp/logs"
      ],
      "execution_count": null,
      "outputs": []
    },
    {
      "cell_type": "code",
      "metadata": {
        "id": "LZTozOAY-ANy"
      },
      "source": [
        "%cd /content/Neural-Scene-Flow-Fields/nsff_exp\n",
        "!mkdir -p \"./logs/\"\n",
        "%cp -R \"/content/drive/MyDrive/Thesis/sf reg/motion accounted for/.\" ./logs"
      ],
      "execution_count": null,
      "outputs": []
    },
    {
      "cell_type": "code",
      "metadata": {
        "id": "KqWlSW3jZxGP"
      },
      "source": [
        "%%time\n",
        "!python run_nerf.py --config configs/config_kid-running.txt --target_idx 1 --render_single_frame"
      ],
      "execution_count": null,
      "outputs": []
    },
    {
      "cell_type": "code",
      "metadata": {
        "id": "6Cp6sKbc-tl1"
      },
      "source": [
        "%%time\n",
        "!python run_nerf.py --config configs/config_kid-running.txt --target_idx 1 --render_lockcam_slowmo"
      ],
      "execution_count": null,
      "outputs": []
    },
    {
      "cell_type": "code",
      "metadata": {
        "id": "S1ibSzdZTkjw"
      },
      "source": [
        "%%time\n",
        "!python run_nerf.py --config configs/config_kid-running.txt --render_bt --bt_linear_interpolation --target_idx 1"
      ],
      "execution_count": null,
      "outputs": []
    },
    {
      "cell_type": "code",
      "metadata": {
        "id": "Mzw2YbSfnl1P"
      },
      "source": [
        ""
      ],
      "execution_count": null,
      "outputs": []
    }
  ]
}